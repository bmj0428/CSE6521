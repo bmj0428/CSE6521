{
  "nbformat": 4,
  "nbformat_minor": 0,
  "metadata": {
    "colab": {
      "provenance": [],
      "gpuType": "T4",
      "include_colab_link": true
    },
    "kernelspec": {
      "name": "python3",
      "display_name": "Python 3"
    },
    "language_info": {
      "name": "python"
    },
    "accelerator": "GPU"
  },
  "cells": [
    {
      "cell_type": "markdown",
      "metadata": {
        "id": "view-in-github",
        "colab_type": "text"
      },
      "source": [
        "<a href=\"https://colab.research.google.com/github/bmj0428/CSE6521/blob/main/TextFooler_241111.ipynb\" target=\"_parent\"><img src=\"https://colab.research.google.com/assets/colab-badge.svg\" alt=\"Open In Colab\"/></a>"
      ]
    },
    {
      "cell_type": "code",
      "source": [
        "!git clone https://github.com/jind11/TextFooler.git\n",
        "\n",
        "%cd TextFooler"
      ],
      "metadata": {
        "id": "3gWxiMiZg_vo",
        "collapsed": true
      },
      "execution_count": null,
      "outputs": []
    },
    {
      "cell_type": "code",
      "source": [
        "!pip install nltk boto3 pattern datasets\n"
      ],
      "metadata": {
        "collapsed": true,
        "id": "GsXJyd9Oh6AB"
      },
      "execution_count": null,
      "outputs": []
    },
    {
      "cell_type": "code",
      "source": [
        "%cd TextFooler"
      ],
      "metadata": {
        "colab": {
          "base_uri": "https://localhost:8080/"
        },
        "id": "Wgg35eatiJpq",
        "outputId": "99660a1d-c0f2-4368-fe68-4b180a5b9389"
      },
      "execution_count": 1,
      "outputs": [
        {
          "output_type": "stream",
          "name": "stdout",
          "text": [
            "/content/TextFooler\n"
          ]
        }
      ]
    },
    {
      "cell_type": "code",
      "source": [
        "%cd ESIM\n",
        "!python setup.py install\n",
        "%cd ..\n"
      ],
      "metadata": {
        "collapsed": true,
        "id": "XlRnkGqdiENK"
      },
      "execution_count": null,
      "outputs": []
    },
    {
      "cell_type": "code",
      "source": [
        "!pip install transformers==4.21.0\n",
        "!pip install --upgrade tensorflow tensorflow_hub\n"
      ],
      "metadata": {
        "collapsed": true,
        "id": "V3CyxKxGiaZB"
      },
      "execution_count": null,
      "outputs": []
    },
    {
      "cell_type": "code",
      "source": [
        "from transformers import BertTokenizer, BertForSequenceClassification\n",
        "\n",
        "# PyTorch 기반의 BERT 토크나이저와 모델 로드\n",
        "tokenizer = BertTokenizer.from_pretrained('bert-base-uncased')\n",
        "model = BertForSequenceClassification.from_pretrained('bert-base-uncased')\n",
        "\n",
        "# 모델과 토크나이저를 로컬 디렉토리에 저장 (safetensors 사용하지 않기)\n",
        "model.save_pretrained('/content/models/bert_model', use_safetensors=False)\n",
        "tokenizer.save_pretrained('/content/models/bert_model')\n"
      ],
      "metadata": {
        "collapsed": true,
        "id": "AElWcgSWlHvf"
      },
      "execution_count": null,
      "outputs": []
    },
    {
      "cell_type": "code",
      "source": [
        "!mv /content/models/bert_model/config.json /content/models/bert_model/bert_config.json\n"
      ],
      "metadata": {
        "id": "udwBv4tRw9X9"
      },
      "execution_count": 5,
      "outputs": []
    },
    {
      "cell_type": "code",
      "source": [
        "!ls /content/models/bert_model/"
      ],
      "metadata": {
        "colab": {
          "base_uri": "https://localhost:8080/"
        },
        "id": "lh56Srj-r5Ny",
        "outputId": "ab194aa4-025a-44d7-8f35-fdc28b73916a"
      },
      "execution_count": 6,
      "outputs": [
        {
          "output_type": "stream",
          "name": "stdout",
          "text": [
            "bert_config.json  pytorch_model.bin  special_tokens_map.json  tokenizer_config.json  vocab.txt\n"
          ]
        }
      ]
    },
    {
      "cell_type": "code",
      "source": [
        "from datasets import load_dataset\n",
        "import pandas as pd\n",
        "\n",
        "# Hugging Face의 'yelp_polarity' 데이터셋을 로드합니다.\n",
        "dataset = load_dataset('yelp_polarity', split='train')\n",
        "\n",
        "# 데이터셋을 판다스 데이터프레임으로 변환\n",
        "df = pd.DataFrame(dataset)\n",
        "\n",
        "# 데이터프레임의 컬럼 확인\n",
        "print(df.columns)  # ['text', 'label']\n",
        "\n",
        "# 레이블과 텍스트 컬럼만 선택, 레이블을 먼저\n",
        "df = df[['label', 'text']]\n",
        "\n",
        "# 데이터프레임에서 레이블이 정수로 되어 있는지 확인 (레이블 컬럼이 정수형이어야 함)\n",
        "df['label'] = df['label'].astype(int)\n",
        "\n",
        "# 공백으로 구분된 텍스트 파일로 저장 (레이블 먼저, 텍스트 나중)\n",
        "with open('/content/yelp_reviews_no_header.txt', 'w', encoding='utf8') as f:\n",
        "    for _, row in df.iterrows():\n",
        "        label = row['label']\n",
        "        # 텍스트 내의 개행 문자를 제거하고 공백으로 대체\n",
        "        text = row['text'].replace('\\n', ' ').replace('\\r', ' ').strip()\n",
        "        # 레이블과 텍스트를 공백으로 구분하여 저장\n",
        "        f.write(f\"{label} {text}\\n\")\n",
        "\n",
        "# 저장된 파일 일부 확인\n",
        "with open('/content/yelp_reviews_no_header.txt', 'r', encoding='utf8') as f:\n",
        "    for i, line in enumerate(f):\n",
        "        if i < 5:  # 첫 5줄만 출력\n",
        "            print(line)\n"
      ],
      "metadata": {
        "id": "u0A05X4km_nx",
        "collapsed": true
      },
      "execution_count": null,
      "outputs": []
    },
    {
      "cell_type": "code",
      "source": [
        "!python comp_cos_sim_mat.py /content/counter-fitted-vectors.txt /content/counter-fitted-cos-sim.npy 10000"
      ],
      "metadata": {
        "colab": {
          "base_uri": "https://localhost:8080/"
        },
        "id": "y_2DLXX8zZEz",
        "outputId": "5129e55c-e6f1-4049-c551-c304f683989b"
      },
      "execution_count": 8,
      "outputs": [
        {
          "output_type": "stream",
          "name": "stdout",
          "text": [
            "Embeddings shape: (10000, 300)\n",
            "Cosine similarity matrix saved to /content/counter-fitted-cos-sim.npy\n"
          ]
        }
      ]
    },
    {
      "cell_type": "code",
      "source": [
        "!ls /content/\n"
      ],
      "metadata": {
        "colab": {
          "base_uri": "https://localhost:8080/"
        },
        "id": "y-4TDrZjzgrV",
        "outputId": "c0405189-8aab-45c0-bcac-809bf7b78b10"
      },
      "execution_count": 9,
      "outputs": [
        {
          "output_type": "stream",
          "name": "stdout",
          "text": [
            "counter-fitted-cos-sim.npy  models\t TextFooler\n",
            "counter-fitted-vectors.txt  sample_data  yelp_reviews_no_header.txt\n"
          ]
        }
      ]
    },
    {
      "cell_type": "code",
      "source": [
        "!python attack_classification.py \\\n",
        "  --dataset_path /content/yelp_reviews_no_header.txt \\\n",
        "  --target_model bert \\\n",
        "  --target_model_path /content/models/bert_model/ \\\n",
        "  --counter_fitting_embeddings_path /content/counter-fitted-vectors.txt \\\n",
        "  --USE_cache_path /content/USE_cache/ \\\n",
        "  --data_size 10"
      ],
      "metadata": {
        "colab": {
          "base_uri": "https://localhost:8080/"
        },
        "id": "KTyTccB7frx-",
        "outputId": "9a9a3ab6-1cf9-4605-f9af-99fc8f984fe7",
        "collapsed": true
      },
      "execution_count": 19,
      "outputs": [
        {
          "output_type": "stream",
          "name": "stdout",
          "text": [
            "[nltk_data] Downloading package averaged_perceptron_tagger to\n",
            "[nltk_data]     /root/nltk_data...\n",
            "[nltk_data]   Package averaged_perceptron_tagger is already up-to-\n",
            "[nltk_data]       date!\n",
            "[nltk_data] Downloading package punkt to /root/nltk_data...\n",
            "[nltk_data]   Package punkt is already up-to-date!\n",
            "2024-11-11 08:49:48.865258: E external/local_xla/xla/stream_executor/cuda/cuda_fft.cc:485] Unable to register cuFFT factory: Attempting to register factory for plugin cuFFT when one has already been registered\n",
            "2024-11-11 08:49:48.885738: E external/local_xla/xla/stream_executor/cuda/cuda_dnn.cc:8454] Unable to register cuDNN factory: Attempting to register factory for plugin cuDNN when one has already been registered\n",
            "2024-11-11 08:49:48.891767: E external/local_xla/xla/stream_executor/cuda/cuda_blas.cc:1452] Unable to register cuBLAS factory: Attempting to register factory for plugin cuBLAS when one has already been registered\n",
            "2024-11-11 08:49:48.909521: I tensorflow/core/platform/cpu_feature_guard.cc:210] This TensorFlow binary is optimized to use available CPU instructions in performance-critical operations.\n",
            "To enable the following instructions: AVX2 FMA, in other operations, rebuild TensorFlow with the appropriate compiler flags.\n",
            "2024-11-11 08:49:50.988768: W tensorflow/compiler/tf2tensorrt/utils/py_utils.cc:38] TF-TRT Warning: Could not find TensorRT\n",
            "Output directory (adv_results) already exists and is not empty.\n",
            "Data import finished!\n",
            "Building Model...\n",
            "/content/TextFooler/BERT/modeling.py:724: FutureWarning: You are using `torch.load` with `weights_only=False` (the current default value), which uses the default pickle module implicitly. It is possible to construct malicious pickle data which will execute arbitrary code during unpickling (See https://github.com/pytorch/pytorch/blob/main/SECURITY.md#untrusted-models for more details). In a future release, the default value for `weights_only` will be flipped to `True`. This limits the functions that could be executed during unpickling. Arbitrary objects will no longer be allowed to be loaded via this mode unless they are explicitly allowlisted by the user via `torch.serialization.add_safe_globals`. We recommend you start setting `weights_only=True` for any use case where you don't have full control of the loaded file. Please open an issue on GitHub for any issues related to this experimental feature.\n",
            "  state_dict = torch.load(resolved_archive_file, map_location='cpu')\n",
            "Model built!\n",
            "Building vocab...\n",
            "Building cos sim matrix...\n",
            "Start loading and normalizing embeddings!\n",
            "Embeddings loaded and normalized!\n",
            "Cos sim import finished!\n",
            "WARNING: All log messages before absl::InitializeLog() is called are written to STDERR\n",
            "I0000 00:00:1731315073.782276   18495 cuda_executor.cc:1015] successful NUMA node read from SysFS had negative value (-1), but there must be at least one NUMA node, so returning NUMA node zero. See more at https://github.com/torvalds/linux/blob/v6.0/Documentation/ABI/testing/sysfs-bus-pci#L344-L355\n",
            "I0000 00:00:1731315073.826332   18495 cuda_executor.cc:1015] successful NUMA node read from SysFS had negative value (-1), but there must be at least one NUMA node, so returning NUMA node zero. See more at https://github.com/torvalds/linux/blob/v6.0/Documentation/ABI/testing/sysfs-bus-pci#L344-L355\n",
            "I0000 00:00:1731315073.826584   18495 cuda_executor.cc:1015] successful NUMA node read from SysFS had negative value (-1), but there must be at least one NUMA node, so returning NUMA node zero. See more at https://github.com/torvalds/linux/blob/v6.0/Documentation/ABI/testing/sysfs-bus-pci#L344-L355\n",
            "I0000 00:00:1731315073.827252   18495 cuda_executor.cc:1015] successful NUMA node read from SysFS had negative value (-1), but there must be at least one NUMA node, so returning NUMA node zero. See more at https://github.com/torvalds/linux/blob/v6.0/Documentation/ABI/testing/sysfs-bus-pci#L344-L355\n",
            "I0000 00:00:1731315073.827495   18495 cuda_executor.cc:1015] successful NUMA node read from SysFS had negative value (-1), but there must be at least one NUMA node, so returning NUMA node zero. See more at https://github.com/torvalds/linux/blob/v6.0/Documentation/ABI/testing/sysfs-bus-pci#L344-L355\n",
            "I0000 00:00:1731315073.827645   18495 cuda_executor.cc:1015] successful NUMA node read from SysFS had negative value (-1), but there must be at least one NUMA node, so returning NUMA node zero. See more at https://github.com/torvalds/linux/blob/v6.0/Documentation/ABI/testing/sysfs-bus-pci#L344-L355\n",
            "I0000 00:00:1731315073.827883   18495 cuda_executor.cc:1015] successful NUMA node read from SysFS had negative value (-1), but there must be at least one NUMA node, so returning NUMA node zero. See more at https://github.com/torvalds/linux/blob/v6.0/Documentation/ABI/testing/sysfs-bus-pci#L344-L355\n",
            "I0000 00:00:1731315073.828022   18495 cuda_executor.cc:1015] successful NUMA node read from SysFS had negative value (-1), but there must be at least one NUMA node, so returning NUMA node zero. See more at https://github.com/torvalds/linux/blob/v6.0/Documentation/ABI/testing/sysfs-bus-pci#L344-L355\n",
            "2024-11-11 08:51:13.828143: W tensorflow/core/common_runtime/gpu/gpu_bfc_allocator.cc:47] Overriding orig_value setting because the TF_FORCE_GPU_ALLOW_GROWTH environment variable is set. Original config value was 0.\n",
            "I0000 00:00:1731315073.828219   18495 cuda_executor.cc:1015] successful NUMA node read from SysFS had negative value (-1), but there must be at least one NUMA node, so returning NUMA node zero. See more at https://github.com/torvalds/linux/blob/v6.0/Documentation/ABI/testing/sysfs-bus-pci#L344-L355\n",
            "2024-11-11 08:51:13.828396: I tensorflow/core/common_runtime/gpu/gpu_device.cc:2021] Created device /job:localhost/replica:0/task:0/device:GPU:0 with 13477 MB memory:  -> device: 0, name: Tesla T4, pci bus id: 0000:00:04.0, compute capability: 7.5\n",
            "Start attacking!\n",
            "0 samples out of 10 have been finished!\n",
            "For target model bert: original accuracy: 40.000%, adv accuracy: 40.000%, avg changed rate: 0.000%, num of queries: 1818.2\n",
            "\n"
          ]
        }
      ]
    },
    {
      "cell_type": "code",
      "source": [],
      "metadata": {
        "id": "OjNwBgNdyGIX"
      },
      "execution_count": null,
      "outputs": []
    }
  ]
}